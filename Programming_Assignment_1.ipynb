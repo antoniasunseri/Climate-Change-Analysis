{
 "cells": [
  {
   "attachments": {},
   "cell_type": "markdown",
   "metadata": {},
   "source": [
    "# Assignment 1 \n",
    "\n",
    "### <span style=\"color: blue;\">Please complete the following activity and submit the notebook to Canvas. This homework is due by the end of week 3, to allow time for selecting your team and topic of the final project. </span>\n",
    "\n",
    "### Total (10 points)"
   ]
  },
  {
   "attachments": {},
   "cell_type": "markdown",
   "metadata": {},
   "source": [
    "## Q1(1 point) Why do we need Python virtual environments?\n",
    "\n",
    "Please write no more than 3 lines."
   ]
  },
  {
   "cell_type": "markdown",
   "metadata": {},
   "source": [
    "A Python virtual environment is needed because it isolates project dependencies which prevents conflicts between packages as the environments are isolated. It ensures consistency across projects and different set ups for different environments helping to manage different packages for different environments."
   ]
  },
  {
   "attachments": {},
   "cell_type": "markdown",
   "metadata": {},
   "source": [
    "## Q2(2 points) Sort the following list in place alphabetically using last three characters."
   ]
  },
  {
   "cell_type": "code",
   "execution_count": 25,
   "metadata": {},
   "outputs": [
    {
     "name": "stdout",
     "output_type": "stream",
     "text": [
      "['Africa', 'America', 'Antarctica', 'Australia', 'Europe', 'Asia']\n"
     ]
    }
   ],
   "source": [
    "continentsL = ['Europe', 'Africa', 'America', 'Antarctica', 'Asia', 'Australia']\n",
    "# Write you code in the next line\n",
    "continentsL.sort(key=lambda x: x[-3:]) # Inplace sort\n",
    "print(continentsL)\n",
    "# sorted_3char = sorted(continentsL, key=lambda continent: continent[-3:])\n",
    "# print(sorted_3char)"
   ]
  },
  {
   "attachments": {},
   "cell_type": "markdown",
   "metadata": {},
   "source": [
    "### Q3(2 = 1 +1 points) We want to compare random integer generation time in numpy and random module of \"plain\" python. Generate 100 random integers in the range 1 to 10 including 1 and 10. Write jupyter notebook line magic to compare execution time of random integer generation in the following cells (look for the cells having the comment *write line magic*).  Line magic must execute the given statement  10 times in a loop and repeat the process 5 times.\n",
    "\n",
    " \n",
    " Hints:\n",
    "\n",
    " - Note that numpy.random has randint function and random has random.randint function.\n",
    " - Press shift+tab after typing above function or search their documentation to understand their parameters.\n",
    " - use ? on magic command timeit for further documentation. see how to use **-n and -r options**.\n",
    " "
   ]
  },
  {
   "cell_type": "code",
   "execution_count": 26,
   "metadata": {},
   "outputs": [],
   "source": [
    "import random\n",
    "num_sample = 100\n",
    "low = 1\n",
    "high = 10\n",
    "\n",
    "#?%timeit"
   ]
  },
  {
   "cell_type": "code",
   "execution_count": 27,
   "metadata": {},
   "outputs": [
    {
     "name": "stdout",
     "output_type": "stream",
     "text": [
      "22.5 μs ± 924 ns per loop (mean ± std. dev. of 5 runs, 10 loops each)\n"
     ]
    }
   ],
   "source": [
    "# write line magic for random module in the next line\n",
    "# NumPy randint timing\n",
    "%timeit -n 10 -r 5 [random.randint(low, high) for _ in range(num_sample)]"
   ]
  },
  {
   "cell_type": "code",
   "execution_count": 28,
   "metadata": {},
   "outputs": [],
   "source": [
    "import numpy as np\n",
    "# In numpy, the upper bound is exclusive"
   ]
  },
  {
   "cell_type": "code",
   "execution_count": 29,
   "metadata": {},
   "outputs": [
    {
     "name": "stdout",
     "output_type": "stream",
     "text": [
      "23.9 μs ± 4.96 μs per loop (mean ± std. dev. of 5 runs, 10 loops each)\n"
     ]
    }
   ],
   "source": [
    "# write line magic for numpy randint in the next line\n",
    "# random.randint timing\n",
    "%timeit -n 10 -r 5 np.random.randint(low, high+1, num_sample)"
   ]
  },
  {
   "attachments": {},
   "cell_type": "markdown",
   "metadata": {},
   "source": [
    "<font size = \"6\"> To start working toward final project, complete the following questions by writing markdown in the same cell in the next line. Each question in worth 1 point. </font>\n",
    "\n",
    "In  the Tools 1 course, __*we are concerned with data cleaning, feature engineering and exploratory analysis. Make sure your selected final project allows for lots of data cleaning, transformation and engineering opportunity.*__ \n",
    "\n",
    "Go over the project and presentation rubric in the course webpage to better understand the requirements for the project.  We will evaluate the answer to see if it meets the final project requirements.\n",
    "\n",
    "\n",
    "\n",
    "<font color = \"red\" size = \"5\">If you are working in a team, we'll read only one team member notebook for the following questions. Please make sure you have identical answers for following questions.  </font>\n",
    "\n",
    "<font color =\"red\"> To edit a markdown cell you need to double click in the cell.</font>"
   ]
  },
  {
   "attachments": {},
   "cell_type": "markdown",
   "metadata": {},
   "source": [
    "## Q4 List your team members in a bullet format. (No more than 4 members).\n",
    "Note that\n",
    "\n",
    "- **Each member** has to present a portion of the project in the final presentation.\n",
    "\n",
    "-  Final report must list the contribution of each member. \n"
   ]
  },
  {
   "attachments": {},
   "cell_type": "markdown",
   "metadata": {},
   "source": [
    "### Group Members:\n",
    "+ Antonia Sunseri \n",
    "+ Manith Kumarapeli \n"
   ]
  },
  {
   "attachments": {},
   "cell_type": "markdown",
   "metadata": {},
   "source": [
    "## Q5  What  problem you are trying to solve?"
   ]
  },
  {
   "attachments": {},
   "cell_type": "markdown",
   "metadata": {},
   "source": [
    "The problem that our project seeks to investigate is temporal trends in the duration of top-hit songs from 2000 to 2019, using the \"Top Hits Spotify from 2000–2019\" dataset available on Kaggle. (https://www.kaggle.com/datasets/paradisejoy/top-hits-spotify-from-20002019) our project will address potential cultural and economic factors influencing song production, including the shortening of attention spans in the digital age and the influence of streaming platforms, which may favor shorter tracks to maximize play counts and revenue. By examining the changes in average song duration over time, this analysis will strive to uncover patterns that reflect shifts in music consumption and production trends. We can analyze an artist's contribution to making a song a hit. For example, whether having a contributing artist is more likely to make a song popular, or whether a remix of an original song, a radio edit, or a change in genre with an added artist is more likely to boost the popularity of a song. We can analyze the evolution of music and its genres. For example, how have the genres of music evolved, and do earlier generations tend to prefer categories such as classical music?"
   ]
  },
  {
   "attachments": {},
   "cell_type": "markdown",
   "metadata": {},
   "source": [
    "## Q6 Describe the attributes of examples in the dataset. If you are planning to collect the data (webscrapping, web API etc.), list the timeline to finish the data collection."
   ]
  },
  {
   "attachments": {},
   "cell_type": "markdown",
   "metadata": {},
   "source": [
    "The dataset consists of audio and metadata features for the top-hit songs on Spotify between 2000 and 2019. Each row in the dataset represents a unique song entry and includes the following fields: \n",
    "\n",
    "* *song (string):* The name of track.\n",
    "* *artist (string):* The name of the artist. \n",
    "* *duration_ms (integer):* Duration of the track in milliseconds.\n",
    "* *explicit (string):* The lyrics or content of a track contains onre or more of the criteria which could be considered offensive for children. \n",
    "* *year (integer):* Release year of the track. \n",
    "* *popularity (integer):* The higher the value the more popular the song is. \n",
    "* *danceability (float):* Describes how suitable a track is for dancing based on a combination of musical elements including tempo, rhythm, beat, and overall regularity on a scale from 0.0 to 1.0. \n",
    "* *energy (float):* Energy is a measure from 0.0 to 1.0 and represents a perceptual measure of intensity and activity. \n",
    "* *key (integer):* The key the track is in. \n",
    "* *loudness (integer):* The overall loudness of a track in decibles (dB).  \n",
    "* *mode (integer):* Mode indicates the modality (major or minor) of a track, where major is represented by 1 and minor is 0. \n",
    "* *speechiness (float):* Speechiness detects the presence of spoken words in a track. The more exclusievly speech-like recording, the closer to 1.0. \n",
    "* *acousticness (float):* A confidence measure from 0.0 to 1.0 of whether the track is acoustic. \n",
    "* *instrumentalness (float):* Predicts whether a track contains no vocals. \n",
    "* *liveness (integer):* Detects the presence of an audience in the recording. \n",
    "* *valence (integer):* A measure from 0.0 to 1.0 describing the musical positvness converyed by a track.  \n",
    "* *tempo (float):* The overall estimated tempo of a track in beats per minute (BPM). \n",
    "* *genre (string):* Genre of the track. "
   ]
  },
  {
   "attachments": {},
   "cell_type": "markdown",
   "metadata": {},
   "source": [
    "## Q7 Give a few examples of records (sample points). Explain why this is a noisy data set (highlight  portion of record attributes you think are noisy)."
   ]
  },
  {
   "cell_type": "markdown",
   "metadata": {},
   "source": [
    "### Initially check for missing values and decide how to address them."
   ]
  },
  {
   "cell_type": "code",
   "execution_count": 30,
   "metadata": {},
   "outputs": [
    {
     "data": {
      "text/plain": [
       "artist              0\n",
       "song                0\n",
       "tempo               0\n",
       "valence             0\n",
       "liveness            0\n",
       "instrumentalness    0\n",
       "acousticness        0\n",
       "speechiness         0\n",
       "mode                0\n",
       "loudness            0\n",
       "key                 0\n",
       "energy              0\n",
       "danceability        0\n",
       "popularity          0\n",
       "year                0\n",
       "explicit            0\n",
       "duration_ms         0\n",
       "genre               0\n",
       "dtype: int64"
      ]
     },
     "execution_count": 30,
     "metadata": {},
     "output_type": "execute_result"
    }
   ],
   "source": [
    "import pandas as pd\n",
    "dataframe_1 = pd.read_csv('songs_normalize.csv')\n",
    "dataframe_1.isnull().sum().sort_values(ascending=False)"
   ]
  },
  {
   "cell_type": "markdown",
   "metadata": {},
   "source": [
    "#### Since there are no missing values. This does not need to be addressed."
   ]
  },
  {
   "cell_type": "markdown",
   "metadata": {},
   "source": [
    "### Next check for duplicates we can remove identical rows of data since this could skew results if any machine learning algorithm is applied."
   ]
  },
  {
   "cell_type": "code",
   "execution_count": 31,
   "metadata": {},
   "outputs": [
    {
     "name": "stdout",
     "output_type": "stream",
     "text": [
      "59\n"
     ]
    }
   ],
   "source": [
    "dataframe_filtered = dataframe_1.drop_duplicates()\n",
    "duplicate_rows = len(dataframe_1) - (len(dataframe_filtered)) \n",
    "print(duplicate_rows)"
   ]
  },
  {
   "cell_type": "markdown",
   "metadata": {},
   "source": [
    "#### There seem to be 59 duplicate rows these could be eliminated to remove any potential bias."
   ]
  },
  {
   "cell_type": "code",
   "execution_count": 32,
   "metadata": {},
   "outputs": [
    {
     "name": "stdout",
     "output_type": "stream",
     "text": [
      "artist               object\n",
      "song                 object\n",
      "duration_ms           int64\n",
      "explicit               bool\n",
      "year                  int64\n",
      "popularity            int64\n",
      "danceability        float64\n",
      "energy              float64\n",
      "key                   int64\n",
      "loudness            float64\n",
      "mode                  int64\n",
      "speechiness         float64\n",
      "acousticness        float64\n",
      "instrumentalness    float64\n",
      "liveness            float64\n",
      "valence             float64\n",
      "tempo               float64\n",
      "genre                object\n",
      "dtype: object\n"
     ]
    }
   ],
   "source": [
    "# skim through the data\n",
    "# for column in dataframe_1.columns:\n",
    "#     print(f\"\\nColumn: {column}\")\n",
    "#     print(dataframe_1[column].unique())\n",
    "\n",
    "print(dataframe_1.dtypes)\n"
   ]
  },
  {
   "cell_type": "markdown",
   "metadata": {},
   "source": [
    "#### There seems to be no issue with the data types in the data frame as they seem to match exactly with the data types for each column. "
   ]
  },
  {
   "cell_type": "code",
   "execution_count": 33,
   "metadata": {},
   "outputs": [
    {
     "data": {
      "text/plain": [
       "artist               835\n",
       "song                1879\n",
       "duration_ms         1793\n",
       "explicit               2\n",
       "year                  23\n",
       "popularity            76\n",
       "danceability         565\n",
       "energy               580\n",
       "key                   12\n",
       "loudness            1671\n",
       "mode                   2\n",
       "speechiness          837\n",
       "acousticness        1208\n",
       "instrumentalness     772\n",
       "liveness             783\n",
       "valence              760\n",
       "tempo               1831\n",
       "genre                 59\n",
       "dtype: int64"
      ]
     },
     "execution_count": 33,
     "metadata": {},
     "output_type": "execute_result"
    }
   ],
   "source": [
    "# Gives a summary of the overall unique values\n",
    "dataframe_filtered.nunique()"
   ]
  },
  {
   "cell_type": "markdown",
   "metadata": {},
   "source": [
    "### Analyzing the outliers in the continuous numerical variables is important since these outliers can be inconsistent data points. "
   ]
  },
  {
   "cell_type": "code",
   "execution_count": 34,
   "metadata": {},
   "outputs": [
    {
     "data": {
      "text/plain": [
       "Text(0.5, 1.0, 'Box Plot of Loudness')"
      ]
     },
     "execution_count": 34,
     "metadata": {},
     "output_type": "execute_result"
    },
    {
     "data": {
      "image/png": "[encoded data removed]",
      "text/plain": [
       "<Figure size 640x480 with 1 Axes>"
      ]
     },
     "metadata": {},
     "output_type": "display_data"
    }
   ],
   "source": [
    "import matplotlib.pyplot as plt\n",
    "import seaborn as sns\n",
    "\n",
    "sns.boxplot(x=dataframe_filtered['loudness'])\n",
    "plt.title(\"Box Plot of Loudness\")\n",
    "\n",
    "# There seems to be quite a less number of songs with a loudness scale less than - 10.39. There is a possibility for these to be inaccurate. "
   ]
  },
  {
   "cell_type": "markdown",
   "metadata": {},
   "source": [
    "### Some names contain characters that go beyond the 26 English letters. E. g. - *NSYNC, 'DJ Ötzi, P!nk, Panic! At The Disco, Axwell /\\\\ Ingrosso, 21 Savage\n",
    "\n",
    "This could be harmless, however there are instances that this could become problematic depending on the type of analysis performed. E. g. - 'Seek Bromance - Aviciiâ€™s Vocal Edit', 'Gangnam Style (ê°•ë‚¨ìŠ¤íƒ€ì¼)', 'Years - ãƒ©ã‚¸ã‚ªãƒ»ã‚¨ãƒ‡ã‚£ãƒƒãƒˆ', 'Lean On (feat. MÃ˜ & DJ Snake)', 'BeyoncÃ©', 'Cold Water (feat. Justin Bieber & MÃ˜)', 'ReggaetÃ³n Lento (Remix)', 'CorazÃ³n (feat. Nego do Borel)', 'Ã‰chame La Culpa'.\n",
    "\n",
    "This could be the correct name like - \\*NSYNC or could be used as a filter E. g.- 'F\\*\\*kin' Perfect', 'Ni\\*\\*as In Paris', 'Work B\\*\\*ch' 'F\\*\\*kin' Problems (feat. Drake, 2 Chainz & Kendrick Lamar)', 'Hot N\\*gga'\n",
    "\n",
    "#### Addressing this could resolve any issues that can arise from the text encoding format that is used. "
   ]
  },
  {
   "cell_type": "markdown",
   "metadata": {},
   "source": [
    "### Genre is another column that requires attention. \n",
    "\n",
    "Categories such as pop and rock seem to appear in most of the places tagged along with other genres. E. g. - Just 'pop', 'World/Traditional, rock, pop', 'hip hop, rock, pop'\n",
    "\n",
    "#### Some songs seem to contain versions that seem to have switched from one genre to another. E. g. - 'Another Day in Paradise - R&B-Version' This needs to be addressed. Eg - Breaking all these tags into individual subgroups and expanding the dataset which could be helpful for more complex analysis or getting all Pop songs under one broader tag could simplify the work.\n",
    "\n",
    "#### This can be used to address the potential inconsistencies that can be caused by the genre of the movie."
   ]
  },
  {
   "cell_type": "markdown",
   "metadata": {},
   "source": [
    "### Song name contains featuring artists attached to the name. It is important to filter out the names of featured artists since featuring artists could directly impact the popularity of a song. E. g. - 'Loyal (feat. Lil Wayne & Tyga)'\n",
    "\n",
    "Filtering a featured artists can become problematic since not all of these are enclosed in brackets. E. g. - 'Finesse - Remix; feat. Cardi B'\n",
    "\n",
    "#### We can also remove the name of contributing artists to focus solely on the name of the track. This can be vital in reducing inconsistencies that can be caused from the name of the song or an inconsistency that could be caused by the name of the artist. "
   ]
  },
  {
   "cell_type": "markdown",
   "metadata": {},
   "source": [
    "### Some names include a different version of the same song. E. g.- 'Get Lucky (feat. Pharrell Williams & Nile Rodgers) - Radio Edit' Radio Edit means that there could be an original version of the same song. Eg - 'Bounce With Me (feat. Xscape) - Edited Album Version' Cases like edited album version also make the dataset noisier.\n",
    "\n",
    "This can also be helpful to isolate songs with similar names having another version. Removing this could get the original name of a track and compare the success of an original track with a changed version of the track."
   ]
  },
  {
   "cell_type": "markdown",
   "metadata": {},
   "source": [
    "### The vocals of the songs could also originate from different languages. E. g. - 'The Ketchup Song (AserejÃ©) - Spanglish Version'\n",
    "\n",
    "This can help determine the language of a song, however, since most of the songs do not have a clear indication of the language the language of the vocals cannot be accurately predicted. "
   ]
  },
  {
   "attachments": {},
   "cell_type": "markdown",
   "metadata": {},
   "source": [
    "## Q8 Describe what kind of feature engineering opportunity you see.\n",
    "\n",
    "We'll cover feature engineering, but here are some examples to get an idea of feature engineering.\n",
    "- Do you need to extract a number, year, or a word in column (attribute of a record)?\n",
    "    + Perhaps extracting Miss, Mr., Dr. is more important than actual name?\n",
    "    + Maybe year or time is embbedded in the text description and it is important for analysis? \n",
    "- If a column has numerical values do you see a potential for using these values or a transformation of these values like square, log etc?"
   ]
  },
  {
   "cell_type": "markdown",
   "metadata": {},
   "source": [
    "### Extracting the featuring artists from the name of the song is important in analyzing the contribution of a given artist. "
   ]
  },
  {
   "cell_type": "markdown",
   "metadata": {},
   "source": [
    "### We can also analyze the impact of explicit. How consumers evolved around this and whether audiences tend to prefer music with explicit content in the past or more recent times."
   ]
  },
  {
   "cell_type": "markdown",
   "metadata": {},
   "source": [
    "### We should also turn the continuous variable duration_ms into a suitable categorical variable to analyze whether shorter songs are gaining popularity over time. Popularity can also be binned into categorical variables to perform this analysis. "
   ]
  },
  {
   "cell_type": "markdown",
   "metadata": {},
   "source": [
    "### There is a possibility of creating complex variables. An index called the calmness index is often defined which is created by dividing the acousticness from energy. "
   ]
  },
  {
   "cell_type": "markdown",
   "metadata": {},
   "source": [
    "### Consolidating the release year from an external source and analyzing them with the release date can be helpful since some music tends to take time to become popular while some may become popular in a lower time period. "
   ]
  },
  {
   "cell_type": "markdown",
   "metadata": {},
   "source": [
    "### There are a lot of opportunities for categorical encoding to encode the different genres of music before applying machine learning. This could be done after resolving the current issue with labels after breaking them into further subcategories or after consolidating them into broader categories. "
   ]
  },
  {
   "cell_type": "markdown",
   "metadata": {},
   "source": [
    "### There are 126 records with popularity equal to zero. We need to analyze whether is this missing data and if so how it will be addressed. Whether we remove them or keep them. "
   ]
  },
  {
   "cell_type": "markdown",
   "metadata": {},
   "source": [
    "### We can log transform some of the fields such as energy, tempo, danceability, and loudness. This could be helpful to normalize the continuous variables which could reduce the skewness which could become helpful when performing analysis. "
   ]
  },
  {
   "cell_type": "markdown",
   "metadata": {},
   "source": [
    "### Columns like danceability, energy, key, loudness, mode, speechiness, acoustics, instrument, liveness, valence and tempo need to be analyzed for outliers or irrelevant data prior to deciding whether to include them or remove them completely from our analysis. If these columns are entirely irrelevant, we can drop these."
   ]
  },
  {
   "cell_type": "markdown",
   "metadata": {},
   "source": [
    "### The shortest song duration is Lil Nas X Old, Town Road at 113000ms and the longest song is Justin Timberlake, Mirrors, 484146. Breaking songs into categories of long and short should be done carefully since this is quite subjective and could differ from one person to another. "
   ]
  }
 ],
 "metadata": {
  "kernelspec": {
   "display_name": "Python 3 (ipykernel)",
   "language": "python",
   "name": "python3"
  },
  "language_info": {
   "codemirror_mode": {
    "name": "ipython",
    "version": 3
   },
   "file_extension": ".py",
   "mimetype": "text/x-python",
   "name": "python",
   "nbconvert_exporter": "python",
   "pygments_lexer": "ipython3",
   "version": "3.12.3"
  },
  "toc": {
   "base_numbering": 1,
   "nav_menu": {},
   "number_sections": false,
   "sideBar": true,
   "skip_h1_title": false,
   "title_cell": "Table of Contents",
   "title_sidebar": "Contents",
   "toc_cell": false,
   "toc_position": {},
   "toc_section_display": true,
   "toc_window_display": false
  },
  "varInspector": {
   "cols": {
    "lenName": 16,
    "lenType": 16,
    "lenVar": 40
   },
   "kernels_config": {
    "python": {
     "delete_cmd_postfix": "",
     "delete_cmd_prefix": "del ",
     "library": "var_list.py",
     "varRefreshCmd": "print(var_dic_list())"
    },
    "r": {
     "delete_cmd_postfix": ") ",
     "delete_cmd_prefix": "rm(",
     "library": "var_list.r",
     "varRefreshCmd": "cat(var_dic_list()) "
    }
   },
   "types_to_exclude": [
    "module",
    "function",
    "builtin_function_or_method",
    "instance",
    "_Feature"
   ],
   "window_display": false
  }
 },
 "nbformat": 4,
 "nbformat_minor": 4
}
