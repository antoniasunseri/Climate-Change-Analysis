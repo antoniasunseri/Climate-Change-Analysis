{
 "cells": [
  {
   "cell_type": "markdown",
   "id": "f044d5ce",
   "metadata": {},
   "source": [
    "## **Spotify Analysis**"
   ]
  },
  {
   "cell_type": "markdown",
   "id": "cce23bbc",
   "metadata": {},
   "source": [
    "## **Group Members:** \n",
    "* Antonia Sunseri \n",
    "* Manith Kumarapeli"
   ]
  },
  {
   "cell_type": "markdown",
   "id": "3cd951fb",
   "metadata": {},
   "source": [
    "## **Problem Statement**"
   ]
  },
  {
   "cell_type": "markdown",
   "id": "f8fcc5d5",
   "metadata": {},
   "source": [
    "The problem that our project seeks to investigate is temporal trends in the duration of top-hit songs from 2000 to 2019, using the \"Top Hits Spotify from 2000–2019\" dataset available on Kaggle (https://www.kaggle.com/datasets/paradisejoy/top-hits-spotify-from-20002019). \n",
    "\n",
    "Our project will address potential cultural and economic factors influencing song production, including the shortening of attention spans in the digital age and the influence of streaming platforms, which may favor shorter tracks to maximize play counts and revenue. By examining the changes in average song duration over time, this analysis will strive to uncover patterns that reflect shifts in music consumption and production trends.\n",
    "\n",
    "Additionally, we will analyze an artist's contribution to a song's popularity. For example, whether having a contributing artist is more likely to make a song popular, or whether a remix of an original song, a radio edit, or genre changes with additional artists strengthen a songs popularity. We will also investigate how the evolution of music genres over time, including whether earlier generations tend to prefer certain genres. "
   ]
  },
  {
   "cell_type": "markdown",
   "id": "67749305",
   "metadata": {},
   "source": [
    "## **Analysis & Wrangling Methods**"
   ]
  },
  {
   "cell_type": "markdown",
   "id": "df9b7269",
   "metadata": {},
   "source": []
  },
  {
   "cell_type": "markdown",
   "id": "f591adbf",
   "metadata": {},
   "source": [
    "## **Initial Insights & Hypothesis**"
   ]
  },
  {
   "cell_type": "markdown",
   "id": "52036d31",
   "metadata": {},
   "source": []
  },
  {
   "cell_type": "markdown",
   "id": "0adf4493",
   "metadata": {},
   "source": [
    "## **Modeling/Analysis Strategy** "
   ]
  },
  {
   "cell_type": "markdown",
   "id": "283de977",
   "metadata": {},
   "source": []
  },
  {
   "cell_type": "markdown",
   "id": "4a8237bf",
   "metadata": {},
   "source": [
    "## **Project Goals**"
   ]
  },
  {
   "cell_type": "markdown",
   "id": "9f0b4f74",
   "metadata": {},
   "source": []
  },
  {
   "cell_type": "markdown",
   "id": "920d975a",
   "metadata": {},
   "source": [
    "## **Problems Faced**"
   ]
  },
  {
   "cell_type": "markdown",
   "id": "8d7f4059",
   "metadata": {},
   "source": []
  }
 ],
 "metadata": {
  "kernelspec": {
   "display_name": "base",
   "language": "python",
   "name": "python3"
  },
  "language_info": {
   "name": "python",
   "version": "3.12.7"
  }
 },
 "nbformat": 4,
 "nbformat_minor": 5
}
